{
 "cells": [
  {
   "cell_type": "markdown",
   "metadata": {},
   "source": [
    "# Setup"
   ]
  },
  {
   "cell_type": "code",
   "execution_count": 1,
   "metadata": {},
   "outputs": [],
   "source": [
    "import os\n",
    "import numpy as np\n",
    "import pandas as pd\n",
    "from ucimlrepo import fetch_ucirepo\n",
    "import matplotlib.pyplot as plt\n",
    "import seaborn as sns\n",
    "from sklearn.decomposition import PCA\n",
    "from sklearn.preprocessing import StandardScaler\n",
    "from sklearn.model_selection import train_test_split\n",
    "from sklearn import metrics\n",
    "from sklearn.metrics import classification_report\n",
    "import mlflow\n",
    "import mlflow.sklearn\n",
    "from sklearn.metrics import ConfusionMatrixDisplay \n",
    "from matplotlib import pyplot as plt\n",
    "from mlflow.data.pandas_dataset import PandasDataset\n",
    "\n",
    "#importar clase regresion logistica\n",
    "from sklearn.linear_model import LogisticRegression\n",
    "\n",
    "#Importar clase arbol de decisión \n",
    "from sklearn.tree import DecisionTreeClassifier\n",
    "\n",
    "\n",
    "import yaml\n",
    "\n",
    "pd.set_option('display.max_rows', 500)\n",
    "pd.set_option('display.max_columns', 500)\n",
    "pd.set_option('display.width', 1000)"
   ]
  },
  {
   "cell_type": "markdown",
   "metadata": {},
   "source": [
    "# Loading and exploring the data"
   ]
  },
  {
   "cell_type": "code",
   "execution_count": 4,
   "metadata": {},
   "outputs": [],
   "source": [
    "def fetch_data(ID):\n",
    "    original_ds = fetch_ucirepo(id=ID)\n",
    "    df = pd.concat([original_ds.data.features,original_ds.data.targets], axis = 1)\n",
    "    return df\n",
    "\n",
    "def explore_data(data):\n",
    "    print(data.head().T)\n",
    "    print(data.describe())\n",
    "    print(data.info()) "
   ]
  },
  {
   "cell_type": "markdown",
   "metadata": {},
   "source": [
    "# Visualizing the data"
   ]
  },
  {
   "cell_type": "code",
   "execution_count": null,
   "metadata": {},
   "outputs": [],
   "source": [
    "def plot_histograms(data):\n",
    "    data.hist(bins=15, figsize=(15, 10))\n",
    "    plt.show()\n",
    "\n",
    "def plot_correlation_matrix(data):\n",
    "    plt.figure(figsize=(12, 8))\n",
    "    sns.heatmap(data.corr(), annot=True, fmt=\".2f\", cmap='coolwarm')\n",
    "    plt.show()\n",
    "    \n",
    "def plot_feature_relationships(data, target):\n",
    "    for column in data.columns[:-1]:\n",
    "        plt.figure(figsize=(8, 4))\n",
    "        sns.boxplot(x=target, y=column, data=data)\n",
    "        plt.title(f'Relationship between Cervical cancer and {column}')\n",
    "        plt.show()"
   ]
  },
  {
   "cell_type": "markdown",
   "metadata": {},
   "source": [
    "# Preprocessing and feature engineering"
   ]
  },
  {
   "cell_type": "code",
   "execution_count": null,
   "metadata": {},
   "outputs": [],
   "source": [
    "def delete_outliers(data):\n",
    "    numeric_columns = data.select_dtypes(include='number').columns\n",
    "    # calcualr el IQR para cada columna\n",
    "    Q1 = data[numeric_columns].quantile(0.25)\n",
    "    Q3 = data[numeric_columns].quantile(0.75)\n",
    "    IQR = Q3 - Q1\n",
    "\n",
    "    # calcula los limites inferiores y superiores\n",
    "    lower_bound = Q1 - 1.5 * IQR\n",
    "    upper_bound = Q3 + 1.5 * IQR\n",
    "\n",
    "    # se determina una df the valores booleanos: True si es un outlier, False si no\n",
    "    outliers = ((data[numeric_columns] < lower_bound) | (data[numeric_columns] > upper_bound))\n",
    "\n",
    "    #se usa el df de booleanos para filtrar los outliers\n",
    "    cleaned_data = data[~outliers.any(axis=1)]\n",
    "    return cleaned_data\n",
    "\n",
    "def normalization(data):\n",
    "    skew = data.skew()\n",
    "    log_transform_columns = []\n",
    "    sqrt_transform_columns = []\n",
    "    for index, value in skew.items():\n",
    "        if value <= -1: \n",
    "            log_transform_columns.append(index)\n",
    "        elif value > -1 and value < -0.5:\n",
    "            sqrt_transform_columns.append(index)\n",
    "\n",
    "    normalized = data.copy()\n",
    "\n",
    "    # Transformación logarítmica: Reduce el impacto de valores extremos. Ideal para variables con sesgo positivo.\n",
    "\n",
    "    normalized[log_transform_columns] = normalized[log_transform_columns].apply(np.log1p)\n",
    "\n",
    "    # Transformación de raíz cuadrada: Similar a la logarítmica, pero menos agresiva. Funciona bien para variables con valores más pequeños o negativos con sesgo positivo o negativo.\n",
    "    normalized[sqrt_transform_columns] = normalized[sqrt_transform_columns].apply(np.sqrt)\n",
    "\n",
    "    return normalized"
   ]
  },
  {
   "cell_type": "markdown",
   "metadata": {},
   "source": [
    "# Splitting the dataset"
   ]
  },
  {
   "cell_type": "code",
   "execution_count": null,
   "metadata": {},
   "outputs": [],
   "source": [
    "def split_data(data, target, test_size=0.2, random_state=42):\n",
    "    X = data.drop(target, axis=1)\n",
    "    y = data[target]\n",
    "    X_train, X_test, y_train, y_test = train_test_split(X, y, test_size=test_size, random_state=random_state)\n",
    "    return X_train, X_test, y_train, y_test"
   ]
  },
  {
   "cell_type": "markdown",
   "metadata": {},
   "source": [
    "# Training the model"
   ]
  },
  {
   "cell_type": "markdown",
   "metadata": {},
   "source": []
  },
  {
   "cell_type": "markdown",
   "metadata": {},
   "source": [
    "# Evaluating the model"
   ]
  },
  {
   "cell_type": "markdown",
   "metadata": {},
   "source": []
  },
  {
   "cell_type": "markdown",
   "metadata": {},
   "source": [
    "# Cross Validation"
   ]
  },
  {
   "cell_type": "markdown",
   "metadata": {},
   "source": []
  }
 ],
 "metadata": {
  "kernelspec": {
   "display_name": ".venv",
   "language": "python",
   "name": "python3"
  },
  "language_info": {
   "codemirror_mode": {
    "name": "ipython",
    "version": 3
   },
   "file_extension": ".py",
   "mimetype": "text/x-python",
   "name": "python",
   "nbconvert_exporter": "python",
   "pygments_lexer": "ipython3",
   "version": "3.10.11"
  }
 },
 "nbformat": 4,
 "nbformat_minor": 2
}
