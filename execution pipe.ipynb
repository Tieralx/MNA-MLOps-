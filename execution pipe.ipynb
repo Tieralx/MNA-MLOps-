{
 "cells": [
  {
   "cell_type": "code",
   "execution_count": 48,
   "metadata": {},
   "outputs": [],
   "source": [
    "import MNA_MLOps_Eq34.src.mlflow_integation_yaml_3_models as test\n",
    "import mlflow\n",
    "import pandas as pd\n",
    "from sklearn.metrics import accuracy_score\n",
    "from mlflow.tracking import MlflowClient"
   ]
  },
  {
   "cell_type": "code",
   "execution_count": 2,
   "metadata": {},
   "outputs": [
    {
     "name": "stderr",
     "output_type": "stream",
     "text": [
      "c:\\tmp_cases\\DEV\\mlops\\MLOps\\MNA-MLOps-\\.venv\\lib\\site-packages\\mlflow\\types\\utils.py:406: UserWarning: Hint: Inferred schema contains integer column(s). Integer columns in Python cannot represent missing values. If your input data contains missing values at inference time, it will be encoded as floats and will cause a schema enforcement error. The best way to avoid this problem is to infer the model schema based on a realistic data sample (training dataset) that includes missing values. Alternatively, you can declare integer columns as doubles (float64) whenever these columns may have missing values. See `Handling Integers With Missing Values <https://www.mlflow.org/docs/latest/models.html#handling-integers-with-missing-values>`_ for more details.\n",
      "  warnings.warn(\n",
      "c:\\tmp_cases\\DEV\\mlops\\MLOps\\MNA-MLOps-\\.venv\\lib\\site-packages\\mlflow\\types\\utils.py:406: UserWarning: Hint: Inferred schema contains integer column(s). Integer columns in Python cannot represent missing values. If your input data contains missing values at inference time, it will be encoded as floats and will cause a schema enforcement error. The best way to avoid this problem is to infer the model schema based on a realistic data sample (training dataset) that includes missing values. Alternatively, you can declare integer columns as doubles (float64) whenever these columns may have missing values. See `Handling Integers With Missing Values <https://www.mlflow.org/docs/latest/models.html#handling-integers-with-missing-values>`_ for more details.\n",
      "  warnings.warn(\n",
      "c:\\tmp_cases\\DEV\\mlops\\MLOps\\MNA-MLOps-\\.venv\\lib\\site-packages\\sklearn\\model_selection\\_validation.py:425: FitFailedWarning: \n",
      "30 fits failed out of a total of 60.\n",
      "The score on these train-test partitions for these parameters will be set to nan.\n",
      "If these failures are not expected, you can try to debug them by setting error_score='raise'.\n",
      "\n",
      "Below are more details about the failures:\n",
      "--------------------------------------------------------------------------------\n",
      "30 fits failed with the following error:\n",
      "Traceback (most recent call last):\n",
      "  File \"c:\\tmp_cases\\DEV\\mlops\\MLOps\\MNA-MLOps-\\.venv\\lib\\site-packages\\sklearn\\model_selection\\_validation.py\", line 729, in _fit_and_score\n",
      "    estimator.fit(X_train, y_train, **fit_params)\n",
      "  File \"c:\\tmp_cases\\DEV\\mlops\\MLOps\\MNA-MLOps-\\.venv\\lib\\site-packages\\sklearn\\base.py\", line 1152, in wrapper\n",
      "    return fit_method(estimator, *args, **kwargs)\n",
      "  File \"c:\\tmp_cases\\DEV\\mlops\\MLOps\\MNA-MLOps-\\.venv\\lib\\site-packages\\sklearn\\pipeline.py\", line 427, in fit\n",
      "    self._final_estimator.fit(Xt, y, **fit_params_last_step)\n",
      "  File \"c:\\tmp_cases\\DEV\\mlops\\MLOps\\MNA-MLOps-\\.venv\\lib\\site-packages\\sklearn\\base.py\", line 1145, in wrapper\n",
      "    estimator._validate_params()\n",
      "  File \"c:\\tmp_cases\\DEV\\mlops\\MLOps\\MNA-MLOps-\\.venv\\lib\\site-packages\\sklearn\\base.py\", line 638, in _validate_params\n",
      "    validate_parameter_constraints(\n",
      "  File \"c:\\tmp_cases\\DEV\\mlops\\MLOps\\MNA-MLOps-\\.venv\\lib\\site-packages\\sklearn\\utils\\_param_validation.py\", line 96, in validate_parameter_constraints\n",
      "    raise InvalidParameterError(\n",
      "sklearn.utils._param_validation.InvalidParameterError: The 'max_depth' parameter of DecisionTreeClassifier must be an int in the range [1, inf) or None. Got 'none' instead.\n",
      "\n",
      "  warnings.warn(some_fits_failed_message, FitFailedWarning)\n",
      "c:\\tmp_cases\\DEV\\mlops\\MLOps\\MNA-MLOps-\\.venv\\lib\\site-packages\\sklearn\\model_selection\\_search.py:979: UserWarning: One or more of the test scores are non-finite: [       nan        nan 0.83055556 0.83611111        nan        nan\n",
      " 0.95       0.83333333        nan        nan 0.95       0.92777778]\n",
      "  warnings.warn(\n",
      "2024/10/18 12:37:22 INFO mlflow.tracking._tracking_service.client: 🏃 View run  GridSearch Run 1 clf at: http://127.0.0.1:5000/#/experiments/3/runs/942870fcdd464cf09dd68336072e4fca.\n",
      "2024/10/18 12:37:22 INFO mlflow.tracking._tracking_service.client: 🧪 View experiment at: http://127.0.0.1:5000/#/experiments/3.\n",
      "2024/10/18 12:37:22 INFO mlflow.tracking._tracking_service.client: 🏃 View run  GridSearch Run 2 clf at: http://127.0.0.1:5000/#/experiments/3/runs/8b044e98409841bb9980b4fb58827f27.\n",
      "2024/10/18 12:37:22 INFO mlflow.tracking._tracking_service.client: 🧪 View experiment at: http://127.0.0.1:5000/#/experiments/3.\n",
      "2024/10/18 12:37:22 INFO mlflow.tracking._tracking_service.client: 🏃 View run  GridSearch Run 3 clf at: http://127.0.0.1:5000/#/experiments/3/runs/b42d1810b4ed4637be7ebc7a144e53bb.\n",
      "2024/10/18 12:37:22 INFO mlflow.tracking._tracking_service.client: 🧪 View experiment at: http://127.0.0.1:5000/#/experiments/3.\n",
      "2024/10/18 12:37:23 INFO mlflow.tracking._tracking_service.client: 🏃 View run  GridSearch Run 4 clf at: http://127.0.0.1:5000/#/experiments/3/runs/87c7e94f7a034280836e6ef91d7f1f0d.\n",
      "2024/10/18 12:37:23 INFO mlflow.tracking._tracking_service.client: 🧪 View experiment at: http://127.0.0.1:5000/#/experiments/3.\n",
      "2024/10/18 12:37:23 INFO mlflow.tracking._tracking_service.client: 🏃 View run  GridSearch Run 5 clf at: http://127.0.0.1:5000/#/experiments/3/runs/81bfff97f7c349eab8a4c9c4b9ef742f.\n",
      "2024/10/18 12:37:23 INFO mlflow.tracking._tracking_service.client: 🧪 View experiment at: http://127.0.0.1:5000/#/experiments/3.\n",
      "2024/10/18 12:37:23 INFO mlflow.tracking._tracking_service.client: 🏃 View run  GridSearch Run 6 clf at: http://127.0.0.1:5000/#/experiments/3/runs/740df71a15974cbd9239f3b6a90e0355.\n",
      "2024/10/18 12:37:23 INFO mlflow.tracking._tracking_service.client: 🧪 View experiment at: http://127.0.0.1:5000/#/experiments/3.\n",
      "2024/10/18 12:37:23 INFO mlflow.tracking._tracking_service.client: 🏃 View run  GridSearch Run 7 clf at: http://127.0.0.1:5000/#/experiments/3/runs/a7085a38d28a4207b4c4b7d25e04d32f.\n",
      "2024/10/18 12:37:23 INFO mlflow.tracking._tracking_service.client: 🧪 View experiment at: http://127.0.0.1:5000/#/experiments/3.\n",
      "2024/10/18 12:37:24 INFO mlflow.tracking._tracking_service.client: 🏃 View run  GridSearch Run 8 clf at: http://127.0.0.1:5000/#/experiments/3/runs/553508525ae040898396f00fbc9e34a3.\n",
      "2024/10/18 12:37:24 INFO mlflow.tracking._tracking_service.client: 🧪 View experiment at: http://127.0.0.1:5000/#/experiments/3.\n",
      "2024/10/18 12:37:24 INFO mlflow.tracking._tracking_service.client: 🏃 View run  GridSearch Run 9 clf at: http://127.0.0.1:5000/#/experiments/3/runs/1b11c01bd4b4428996444c45b1a88b77.\n",
      "2024/10/18 12:37:24 INFO mlflow.tracking._tracking_service.client: 🧪 View experiment at: http://127.0.0.1:5000/#/experiments/3.\n",
      "2024/10/18 12:37:24 INFO mlflow.tracking._tracking_service.client: 🏃 View run  GridSearch Run 10 clf at: http://127.0.0.1:5000/#/experiments/3/runs/7b8225fe739d457c9bdeec83e95e7267.\n",
      "2024/10/18 12:37:24 INFO mlflow.tracking._tracking_service.client: 🧪 View experiment at: http://127.0.0.1:5000/#/experiments/3.\n",
      "2024/10/18 12:37:24 INFO mlflow.tracking._tracking_service.client: 🏃 View run  GridSearch Run 11 clf at: http://127.0.0.1:5000/#/experiments/3/runs/725a74045dd640169ba5efdef7f81ee0.\n",
      "2024/10/18 12:37:24 INFO mlflow.tracking._tracking_service.client: 🧪 View experiment at: http://127.0.0.1:5000/#/experiments/3.\n",
      "2024/10/18 12:37:25 INFO mlflow.tracking._tracking_service.client: 🏃 View run  GridSearch Run 12 clf at: http://127.0.0.1:5000/#/experiments/3/runs/c2b2228bddcd4c1e986d2f4110b5ff56.\n",
      "2024/10/18 12:37:25 INFO mlflow.tracking._tracking_service.client: 🧪 View experiment at: http://127.0.0.1:5000/#/experiments/3.\n",
      "c:\\tmp_cases\\DEV\\mlops\\MLOps\\MNA-MLOps-\\.venv\\lib\\site-packages\\mlflow\\types\\utils.py:406: UserWarning: Hint: Inferred schema contains integer column(s). Integer columns in Python cannot represent missing values. If your input data contains missing values at inference time, it will be encoded as floats and will cause a schema enforcement error. The best way to avoid this problem is to infer the model schema based on a realistic data sample (training dataset) that includes missing values. Alternatively, you can declare integer columns as doubles (float64) whenever these columns may have missing values. See `Handling Integers With Missing Values <https://www.mlflow.org/docs/latest/models.html#handling-integers-with-missing-values>`_ for more details.\n",
      "  warnings.warn(\n"
     ]
    },
    {
     "name": "stdout",
     "output_type": "stream",
     "text": [
      "Best model Accuracy: 0.8333333333333334\n",
      "Classification Report:\n",
      "accuracy: 0.8333333333333334\n",
      "macro avg:\n",
      "  f1-score: 0.7777777777777777\n",
      "  precision: 0.8035714285714286\n",
      "  recall: 0.7615384615384615\n",
      "  support: 18.0\n",
      "weighted avg:\n",
      "  f1-score: 0.8271604938271605\n",
      "  precision: 0.8273809523809523\n",
      "  recall: 0.8333333333333334\n",
      "  support: 18.0\n",
      "with cervical cancer:\n",
      "  f1-score: 0.6666666666666665\n",
      "  precision: 0.75\n",
      "  recall: 0.6\n",
      "  support: 5.0\n",
      "without cervical cancer:\n",
      "  f1-score: 0.888888888888889\n",
      "  precision: 0.8571428571428571\n",
      "  recall: 0.9230769230769231\n",
      "  support: 13.0\n",
      "\n"
     ]
    },
    {
     "name": "stderr",
     "output_type": "stream",
     "text": [
      "Registered model 'cervical_cancer_clf' already exists. Creating a new version of this model...\n",
      "2024/10/18 12:37:33 INFO mlflow.store.model_registry.abstract_store: Waiting up to 300 seconds for model version to finish creation. Model name: cervical_cancer_clf, version 4\n",
      "Created version '4' of model 'cervical_cancer_clf'.\n",
      "2024/10/18 12:37:33 INFO mlflow.tracking._tracking_service.client: 🏃 View run secretive-goat-648 at: http://127.0.0.1:5000/#/experiments/3/runs/05c38f2abe9644e99fe600cd97761d14.\n",
      "2024/10/18 12:37:33 INFO mlflow.tracking._tracking_service.client: 🧪 View experiment at: http://127.0.0.1:5000/#/experiments/3.\n"
     ]
    }
   ],
   "source": [
    "test.main()"
   ]
  },
  {
   "cell_type": "code",
   "execution_count": 2,
   "metadata": {},
   "outputs": [],
   "source": [
    "X = pd.read_csv(r'MNA_MLOps_Eq34\\data\\processed\\X_test_processed.csv')\n",
    "y = pd.read_csv(r'MNA_MLOps_Eq34\\data\\processed\\y_test_processed.csv')"
   ]
  },
  {
   "cell_type": "code",
   "execution_count": 18,
   "metadata": {},
   "outputs": [],
   "source": [
    "mlflow.set_tracking_uri(\"http://127.0.0.1:5000\")\n",
    "client = MlflowClient() "
   ]
  },
  {
   "cell_type": "code",
   "execution_count": 74,
   "metadata": {},
   "outputs": [],
   "source": [
    "run_ids = pd.DataFrame({'model':['clr','lr','xgb'], 'run': ['05c38f2abe9644e99fe600cd97761d14','03812c18237449239f615492248ff59c','f9d2c96f5f9141f9945f1c721e3b0710']})\n"
   ]
  },
  {
   "cell_type": "code",
   "execution_count": 73,
   "metadata": {},
   "outputs": [
    {
     "data": {
      "application/vnd.jupyter.widget-view+json": {
       "model_id": "07cd99d52c1d4f478ec39855bc101cfd",
       "version_major": 2,
       "version_minor": 0
      },
      "text/plain": [
       "Downloading artifacts:   0%|          | 0/5 [00:00<?, ?it/s]"
      ]
     },
     "metadata": {},
     "output_type": "display_data"
    },
    {
     "data": {
      "application/vnd.jupyter.widget-view+json": {
       "model_id": "d4d77d3b038244f5ae02c13116d2d3d6",
       "version_major": 2,
       "version_minor": 0
      },
      "text/plain": [
       "Downloading artifacts:   0%|          | 0/5 [00:00<?, ?it/s]"
      ]
     },
     "metadata": {},
     "output_type": "display_data"
    },
    {
     "data": {
      "application/vnd.jupyter.widget-view+json": {
       "model_id": "50a3f2a13f4a41bc97fc479ce67369fa",
       "version_major": 2,
       "version_minor": 0
      },
      "text/plain": [
       "Downloading artifacts:   0%|          | 0/5 [00:00<?, ?it/s]"
      ]
     },
     "metadata": {},
     "output_type": "display_data"
    },
    {
     "data": {
      "text/plain": [
       "[{'model': 'clr',\n",
       "  'Accuracy Loaded': 0.8333333333333334,\n",
       "  'Accuracy Model': 0.8333333333333334},\n",
       " {'model': 'lr',\n",
       "  'Accuracy Loaded': 0.8333333333333334,\n",
       "  'Accuracy Model': 0.8333333333333334},\n",
       " {'model': 'xgb',\n",
       "  'Accuracy Loaded': 0.7777777777777778,\n",
       "  'Accuracy Model': 0.7777777777777778}]"
      ]
     },
     "execution_count": 73,
     "metadata": {},
     "output_type": "execute_result"
    }
   ],
   "source": [
    "model_comp = []\n",
    "for index, row in run_ids.iterrows():\n",
    "    run_id = row['run']\n",
    "    logged_model = f'runs:/{run_id}/sklearn-model'\n",
    "    # Load model as a PyFuncModel.\n",
    "    loaded_model = mlflow.pyfunc.load_model(logged_model)\n",
    "    # Predict on a Pandas DataFrame.\n",
    "    y_pred_loaded = loaded_model.predict(X)\n",
    "    \n",
    "    acc_loaded = accuracy_score(y, y_pred_loaded)\n",
    "   \n",
    "    acc_model = client.get_run(run_id).data.to_dictionary()\n",
    "  \n",
    "    new_row = {\"model\":row['model'], \"Accuracy Loaded\": acc_loaded, \"Accuracy Model\":acc_model['metrics']['Classifaction_report_Accuracy']}\n",
    "    model_comp.append(new_row)\n",
    "\n",
    "model_comp\n"
   ]
  },
  {
   "cell_type": "code",
   "execution_count": null,
   "metadata": {},
   "outputs": [],
   "source": []
  }
 ],
 "metadata": {
  "kernelspec": {
   "display_name": ".venv",
   "language": "python",
   "name": "python3"
  },
  "language_info": {
   "codemirror_mode": {
    "name": "ipython",
    "version": 3
   },
   "file_extension": ".py",
   "mimetype": "text/x-python",
   "name": "python",
   "nbconvert_exporter": "python",
   "pygments_lexer": "ipython3",
   "version": "3.10.11"
  }
 },
 "nbformat": 4,
 "nbformat_minor": 2
}
